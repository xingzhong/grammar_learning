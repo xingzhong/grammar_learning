{
 "metadata": {
  "name": "",
  "signature": "sha256:4510f5964971c4654b12bb18aa9d2310ef5d161d08ed04bc1ff7a494d3ef1902"
 },
 "nbformat": 3,
 "nbformat_minor": 0,
 "worksheets": [
  {
   "cells": [
    {
     "cell_type": "code",
     "collapsed": false,
     "input": [
      "from sympy import *\n"
     ],
     "language": "python",
     "metadata": {},
     "outputs": [],
     "prompt_number": 3
    },
    {
     "cell_type": "code",
     "collapsed": false,
     "input": [
      "r = Symbol('r')\n",
      "dx = Symbol('dx')\n",
      "dy = Symbol('dy')\n",
      "theta = Symbol('theta')\n",
      "d1 = Symbol('d1')\n",
      "d2 = Symbol('d2')\n",
      "f = Symbol('f')\n",
      "s = Symbol('s')\n",
      "lam = Matrix([dx, dy, f, theta, s, r, d1, d2])\n",
      "lama = Matrix([dx, dy, f, theta, s, r, d1, d2])\n",
      "R = Matrix([[r*f, s, dx], [0, f, dy], [0, 0, 1]])\n",
      "Q = Matrix([[cos(theta), -sin(theta), 0], [sin(theta), cos(theta), 0], [d1, d2, 1]])\n",
      "H = R * Q"
     ],
     "language": "python",
     "metadata": {},
     "outputs": [],
     "prompt_number": 12
    },
    {
     "cell_type": "code",
     "collapsed": false,
     "input": [
      "R * Q"
     ],
     "language": "python",
     "metadata": {},
     "outputs": [
      {
       "metadata": {},
       "output_type": "pyout",
       "prompt_number": 54,
       "text": [
        "Matrix([\n",
        "[d1*dx + f*r*cos(theta) + s*sin(theta), d2*dx - f*r*sin(theta) + s*cos(theta), dx],\n",
        "[                 d1*dy + f*sin(theta),                  d2*dy + f*cos(theta), dy],\n",
        "[                                   d1,                                    d2,  1]])"
       ]
      }
     ],
     "prompt_number": 54
    },
    {
     "cell_type": "code",
     "collapsed": false,
     "input": [
      "X = MatrixSymbol('X', 8, 8)"
     ],
     "language": "python",
     "metadata": {},
     "outputs": [],
     "prompt_number": 55
    },
    {
     "cell_type": "code",
     "collapsed": false,
     "input": [
      "res = (X * lam * lam.T * lam).as_explicit()\n",
      "res[0]"
     ],
     "language": "python",
     "metadata": {},
     "outputs": [
      {
       "metadata": {},
       "output_type": "pyout",
       "prompt_number": 70,
       "text": [
        "(d1**3 + d1*d2**2 + d1*dx**2 + d1*dy**2 + d1*f**2 + d1*r**2 + d1*s**2 + d1*theta**2)*X[0, 6] + (d1**2*d2 + d2**3 + d2*dx**2 + d2*dy**2 + d2*f**2 + d2*r**2 + d2*s**2 + d2*theta**2)*X[0, 7] + (d1**2*dx + d2**2*dx + dx**3 + dx*dy**2 + dx*f**2 + dx*r**2 + dx*s**2 + dx*theta**2)*X[0, 0] + (d1**2*dy + d2**2*dy + dx**2*dy + dy**3 + dy*f**2 + dy*r**2 + dy*s**2 + dy*theta**2)*X[0, 1] + (d1**2*f + d2**2*f + dx**2*f + dy**2*f + f**3 + f*r**2 + f*s**2 + f*theta**2)*X[0, 2] + (d1**2*r + d2**2*r + dx**2*r + dy**2*r + f**2*r + r**3 + r*s**2 + r*theta**2)*X[0, 5] + (d1**2*s + d2**2*s + dx**2*s + dy**2*s + f**2*s + r**2*s + s**3 + s*theta**2)*X[0, 4] + (d1**2*theta + d2**2*theta + dx**2*theta + dy**2*theta + f**2*theta + r**2*theta + s**2*theta + theta**3)*X[0, 3]"
       ]
      }
     ],
     "prompt_number": 70
    },
    {
     "cell_type": "code",
     "collapsed": false,
     "input": [
      "t = Symbol('t')\n",
      "G = Matrix([t*t/2, t*t/2, t*t/2, t, t, t])"
     ],
     "language": "python",
     "metadata": {},
     "outputs": [],
     "prompt_number": 44
    },
    {
     "cell_type": "code",
     "collapsed": false,
     "input": [
      "G * G.T"
     ],
     "language": "python",
     "metadata": {},
     "outputs": [
      {
       "metadata": {},
       "output_type": "pyout",
       "prompt_number": 45,
       "text": [
        "Matrix([\n",
        "[t**4/4, t**4/4, t**4/4, t**3/2, t**3/2, t**3/2],\n",
        "[t**4/4, t**4/4, t**4/4, t**3/2, t**3/2, t**3/2],\n",
        "[t**4/4, t**4/4, t**4/4, t**3/2, t**3/2, t**3/2],\n",
        "[t**3/2, t**3/2, t**3/2,   t**2,   t**2,   t**2],\n",
        "[t**3/2, t**3/2, t**3/2,   t**2,   t**2,   t**2],\n",
        "[t**3/2, t**3/2, t**3/2,   t**2,   t**2,   t**2]])"
       ]
      }
     ],
     "prompt_number": 45
    },
    {
     "cell_type": "code",
     "collapsed": false,
     "input": [
      "t**2/2 * ones(3)"
     ],
     "language": "python",
     "metadata": {},
     "outputs": [
      {
       "metadata": {},
       "output_type": "pyout",
       "prompt_number": 47,
       "text": [
        "Matrix([\n",
        "[t**2/2, t**2/2, t**2/2],\n",
        "[t**2/2, t**2/2, t**2/2],\n",
        "[t**2/2, t**2/2, t**2/2]])"
       ]
      }
     ],
     "prompt_number": 47
    }
   ],
   "metadata": {}
  }
 ]
}