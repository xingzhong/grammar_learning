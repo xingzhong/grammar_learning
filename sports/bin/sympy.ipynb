{
 "metadata": {
  "name": "",
  "signature": "sha256:f5d83c1fdb48a0b94dfa57e8e1a9d0ba93213c8567347e5559ee2a98357758f0"
 },
 "nbformat": 3,
 "nbformat_minor": 0,
 "worksheets": [
  {
   "cells": [
    {
     "cell_type": "code",
     "collapsed": false,
     "input": [
      "from sympy import *\n"
     ],
     "language": "python",
     "metadata": {},
     "outputs": [],
     "prompt_number": 3
    },
    {
     "cell_type": "code",
     "collapsed": false,
     "input": [
      "r = Symbol('r')\n",
      "dx = Symbol('dx')\n",
      "dy = Symbol('dy')\n",
      "theta = Symbol('theta')\n",
      "d1 = Symbol('d1')\n",
      "d2 = Symbol('d2')\n",
      "f = Symbol('f')\n",
      "s = Symbol('s')\n",
      "lam = Matrix([dx, dy, f, theta, s, r, d1, d2])\n",
      "lama = Matrix([dx, dy, f])\n",
      "R = Matrix([[r*f, s, dx], [0, f, dy], [0, 0, 1]])\n",
      "Q = Matrix([[cos(theta), -sin(theta), 0], [sin(theta), cos(theta), 0], [d1, d2, 1]])\n",
      "H = R * Q"
     ],
     "language": "python",
     "metadata": {},
     "outputs": [],
     "prompt_number": 71
    },
    {
     "cell_type": "code",
     "collapsed": false,
     "input": [
      "R * Q"
     ],
     "language": "python",
     "metadata": {},
     "outputs": [
      {
       "metadata": {},
       "output_type": "pyout",
       "prompt_number": 54,
       "text": [
        "Matrix([\n",
        "[d1*dx + f*r*cos(theta) + s*sin(theta), d2*dx - f*r*sin(theta) + s*cos(theta), dx],\n",
        "[                 d1*dy + f*sin(theta),                  d2*dy + f*cos(theta), dy],\n",
        "[                                   d1,                                    d2,  1]])"
       ]
      }
     ],
     "prompt_number": 54
    },
    {
     "cell_type": "code",
     "collapsed": false,
     "input": [
      "X = MatrixSymbol('X', 8, 8)\n",
      "C1 = MatrixSymbol('C1', 5, 3)\n",
      "I1 = Identity(3)\n",
      "C = BlockMatrix([[I1], [C1]])\n",
      "C.shape"
     ],
     "language": "python",
     "metadata": {},
     "outputs": [
      {
       "metadata": {},
       "output_type": "pyout",
       "prompt_number": 89,
       "text": [
        "(8, 3)"
       ]
      }
     ],
     "prompt_number": 89
    },
    {
     "cell_type": "code",
     "collapsed": false,
     "input": [
      "lamV = (C * lama)\n",
      "dx = lamV[0,0]\n",
      "dy = lamV[1,0]\n",
      "f = lamV[2,0]\n",
      "theta = lamV[3,0]\n",
      "s = lamV[4,0]\n",
      "r = lamV[5,0]\n",
      "d1 = lamV[6,0]\n",
      "d2 = lamV[7,0]\n",
      "R = Matrix([[r*f, s, dx], [0, f, dy], [0, 0, 1]])\n",
      "Q = Matrix([[cos(theta), -sin(theta), 0], [sin(theta), cos(theta), 0], [d1, d2, 1]])\n",
      "H = R*Q\n",
      "h = H.T.vec()\n",
      "h.jacobian(lama).shape"
     ],
     "language": "python",
     "metadata": {},
     "outputs": [
      {
       "metadata": {},
       "output_type": "pyout",
       "prompt_number": 132,
       "text": [
        "(9, 3)"
       ]
      }
     ],
     "prompt_number": 132
    },
    {
     "cell_type": "code",
     "collapsed": false,
     "input": [
      "lamV.as_explicit()"
     ],
     "language": "python",
     "metadata": {},
     "outputs": [
      {
       "metadata": {},
       "output_type": "pyout",
       "prompt_number": 138,
       "text": [
        "Matrix([\n",
        "[                                    dx],\n",
        "[                                    dy],\n",
        "[                                     f],\n",
        "[dx*C1[0, 0] + dy*C1[0, 1] + f*C1[0, 2]],\n",
        "[dx*C1[1, 0] + dy*C1[1, 1] + f*C1[1, 2]],\n",
        "[dx*C1[2, 0] + dy*C1[2, 1] + f*C1[2, 2]],\n",
        "[dx*C1[3, 0] + dy*C1[3, 1] + f*C1[3, 2]],\n",
        "[dx*C1[4, 0] + dy*C1[4, 1] + f*C1[4, 2]]])"
       ]
      }
     ],
     "prompt_number": 138
    },
    {
     "cell_type": "code",
     "collapsed": false,
     "input": [
      "t = Symbol('t')\n",
      "G = Matrix([t*t/2, t*t/2, t*t/2, t, t, t])"
     ],
     "language": "python",
     "metadata": {},
     "outputs": [],
     "prompt_number": 44
    },
    {
     "cell_type": "code",
     "collapsed": false,
     "input": [
      "G * G.T"
     ],
     "language": "python",
     "metadata": {},
     "outputs": [
      {
       "metadata": {},
       "output_type": "pyout",
       "prompt_number": 45,
       "text": [
        "Matrix([\n",
        "[t**4/4, t**4/4, t**4/4, t**3/2, t**3/2, t**3/2],\n",
        "[t**4/4, t**4/4, t**4/4, t**3/2, t**3/2, t**3/2],\n",
        "[t**4/4, t**4/4, t**4/4, t**3/2, t**3/2, t**3/2],\n",
        "[t**3/2, t**3/2, t**3/2,   t**2,   t**2,   t**2],\n",
        "[t**3/2, t**3/2, t**3/2,   t**2,   t**2,   t**2],\n",
        "[t**3/2, t**3/2, t**3/2,   t**2,   t**2,   t**2]])"
       ]
      }
     ],
     "prompt_number": 45
    },
    {
     "cell_type": "code",
     "collapsed": false,
     "input": [
      "(f*sin(f))"
     ],
     "language": "python",
     "metadata": {},
     "outputs": [
      {
       "metadata": {},
       "output_type": "pyout",
       "prompt_number": 103,
       "text": [
        "(dx*C1[3, 0] + dy*C1[3, 1] + f*C1[3, 2])*sin(dx*C1[3, 0] + dy*C1[3, 1] + f*C1[3, 2])"
       ]
      }
     ],
     "prompt_number": 103
    }
   ],
   "metadata": {}
  }
 ]
}