{
 "metadata": {
  "name": "",
  "signature": "sha256:24a3c253ace7c9a0ccb81749005f3ea1deb8a8a3f3c6335413fed0092d0eed19"
 },
 "nbformat": 3,
 "nbformat_minor": 0,
 "worksheets": [
  {
   "cells": [
    {
     "cell_type": "code",
     "collapsed": false,
     "input": [
      "import numpy as np\n",
      "from sympy import  Symbol, symbols, Matrix, sin, cos, MatrixSymbol, BlockMatrix, ZeroMatrix, simplify\n",
      "from sympy.interactive import printing\n",
      "from sklearn.neighbors import NearestNeighbors\n",
      "import matplotlib.pyplot as plt\n",
      "import cv2\n",
      "import matplotlib.pylab as pylab\n",
      "\n",
      "printing.init_printing()\n",
      "np.set_printoptions(precision=3)\n",
      "np.set_printoptions(suppress=True)\n",
      "%matplotlib inline\n",
      "pylab.rcParams['figure.figsize'] = 16, 12"
     ],
     "language": "python",
     "metadata": {},
     "outputs": [],
     "prompt_number": 1
    },
    {
     "cell_type": "code",
     "collapsed": false,
     "input": [],
     "language": "python",
     "metadata": {},
     "outputs": []
    }
   ],
   "metadata": {}
  }
 ]
}